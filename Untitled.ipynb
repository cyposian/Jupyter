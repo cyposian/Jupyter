{
 "cells": [
  {
   "cell_type": "code",
   "execution_count": 13,
   "id": "08c1ceee-eca7-47d7-9793-881ab26c662b",
   "metadata": {},
   "outputs": [
    {
     "name": "stdout",
     "output_type": "stream",
     "text": [
      "2\n",
      "True\n"
     ]
    }
   ],
   "source": [
    "import math\n",
    "\n",
    "def largestPrimeFactor(n):\n",
    "    res = 2\n",
    "    \n",
    "    for i in range(2, math.floor(math.sqrt(n)) + 1):\n",
    "        if isPrime(n):\n",
    "            if n % i == 0:\n",
    "                res = n\n",
    "    return res\n",
    "    \n",
    "def isPrime(x):\n",
    "    for j in range(2, math.floor(math.sqrt(x)) + 1):\n",
    "        if x % j == 0:\n",
    "            return False\n",
    "    return True\n",
    "        \n",
    "print(largestPrimeFactor(600851475143))\n",
    "print(isPrime(3))"
   ]
  },
  {
   "cell_type": "code",
   "execution_count": null,
   "id": "749061ba-5579-4298-bdcd-80fdfd441bb4",
   "metadata": {},
   "outputs": [],
   "source": []
  }
 ],
 "metadata": {
  "kernelspec": {
   "display_name": "Python 3 (ipykernel)",
   "language": "python",
   "name": "python3"
  },
  "language_info": {
   "codemirror_mode": {
    "name": "ipython",
    "version": 3
   },
   "file_extension": ".py",
   "mimetype": "text/x-python",
   "name": "python",
   "nbconvert_exporter": "python",
   "pygments_lexer": "ipython3",
   "version": "3.13.1"
  }
 },
 "nbformat": 4,
 "nbformat_minor": 5
}
